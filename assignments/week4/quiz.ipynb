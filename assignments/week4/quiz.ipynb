{
 "cells": [
  {
   "cell_type": "code",
   "execution_count": 1,
   "source": [
    "import re\r\n",
    "s = 'ABCAC'\r\n",
    "\r\n",
    "bool(re.match('A', s)) == True"
   ],
   "outputs": [
    {
     "output_type": "execute_result",
     "data": {
      "text/plain": [
       "True"
      ]
     },
     "metadata": {},
     "execution_count": 1
    }
   ],
   "metadata": {}
  },
  {
   "cell_type": "code",
   "execution_count": null,
   "source": [
    "def result():\r\n",
    "    s = 'ACAABAACAAABACDBADDDFSDDDFFSSSASDAFAAACBAAAFASD'\r\n",
    "\r\n",
    "    result = []\r\n",
    "    # compete the pattern below\r\n",
    "    pattern = r\"([^A])(?=AAA)\"\r\n",
    "    for item in re.finditer(pattern, s):\r\n",
    "      # identify the group number below.\r\n",
    "      result.append(item.group())\r\n",
    "      \r\n",
    "    return result\r\n",
    "\r\n",
    "result()"
   ],
   "outputs": [],
   "metadata": {}
  },
  {
   "cell_type": "code",
   "execution_count": 2,
   "source": [
    "# Question 5\r\n",
    "import pandas as pd\r\n",
    "s1 = pd.Series({'Mango':20, \r\n",
    "                'Strawberry':15,\r\n",
    "                'Blueberry':18, \r\n",
    "                'Vanilla':31})\r\n",
    "s1\r\n",
    "s2 = pd.Series({'Strawberry':20, \r\n",
    "                'Vanilla':30,\r\n",
    "                'Banana':15, \r\n",
    "                'Mango':20,\r\n",
    "                'Plain': 20})\r\n",
    "s3 = s1.add(s2)\r\n",
    "\r\n",
    "s3['Mango'] >=  s1.add(s2, fill_value = 0)['Mango']"
   ],
   "outputs": [
    {
     "output_type": "stream",
     "name": "stderr",
     "text": [
      "C:\\Users\\crystallwi.xiaujing\\AppData\\Local\\Continuum\\anaconda3\\lib\\site-packages\\pandas\\compat\\_optional.py:138: UserWarning: Pandas requires version '2.7.0' or newer of 'numexpr' (version '2.6.9' currently installed).\n",
      "  warnings.warn(msg, UserWarning)\n"
     ]
    },
    {
     "output_type": "execute_result",
     "data": {
      "text/plain": [
       "True"
      ]
     },
     "metadata": {},
     "execution_count": 2
    }
   ],
   "metadata": {}
  },
  {
   "cell_type": "code",
   "execution_count": 5,
   "source": [
    "# Questio 7\r\n",
    "import numpy as np\r\n",
    "S = pd.Series(np.arange(5), index=['a', 'b', 'c', 'd', 'e'])\r\n",
    "S[1:4]"
   ],
   "outputs": [
    {
     "output_type": "execute_result",
     "data": {
      "text/plain": [
       "b    1\n",
       "c    2\n",
       "d    3\n",
       "dtype: int32"
      ]
     },
     "metadata": {},
     "execution_count": 5
    }
   ],
   "metadata": {}
  },
  {
   "cell_type": "code",
   "execution_count": 6,
   "source": [
    "# Question 8\r\n",
    "df = pd.DataFrame({'a': [5,5,71,67],\r\n",
    "                   'b': [6,82,31,37],\r\n",
    "                   'c': [20, 28, 92, 39]},columns=['a', 'b', 'c'],index=['R1', 'R2', 'R3', 'R4'])\r\n",
    "df"
   ],
   "outputs": [
    {
     "output_type": "execute_result",
     "data": {
      "text/html": [
       "<div>\n",
       "<style scoped>\n",
       "    .dataframe tbody tr th:only-of-type {\n",
       "        vertical-align: middle;\n",
       "    }\n",
       "\n",
       "    .dataframe tbody tr th {\n",
       "        vertical-align: top;\n",
       "    }\n",
       "\n",
       "    .dataframe thead th {\n",
       "        text-align: right;\n",
       "    }\n",
       "</style>\n",
       "<table border=\"1\" class=\"dataframe\">\n",
       "  <thead>\n",
       "    <tr style=\"text-align: right;\">\n",
       "      <th></th>\n",
       "      <th>a</th>\n",
       "      <th>b</th>\n",
       "      <th>c</th>\n",
       "    </tr>\n",
       "  </thead>\n",
       "  <tbody>\n",
       "    <tr>\n",
       "      <th>R1</th>\n",
       "      <td>5</td>\n",
       "      <td>6</td>\n",
       "      <td>20</td>\n",
       "    </tr>\n",
       "    <tr>\n",
       "      <th>R2</th>\n",
       "      <td>5</td>\n",
       "      <td>82</td>\n",
       "      <td>28</td>\n",
       "    </tr>\n",
       "    <tr>\n",
       "      <th>R3</th>\n",
       "      <td>71</td>\n",
       "      <td>31</td>\n",
       "      <td>92</td>\n",
       "    </tr>\n",
       "    <tr>\n",
       "      <th>R4</th>\n",
       "      <td>67</td>\n",
       "      <td>37</td>\n",
       "      <td>39</td>\n",
       "    </tr>\n",
       "  </tbody>\n",
       "</table>\n",
       "</div>"
      ],
      "text/plain": [
       "     a   b   c\n",
       "R1   5   6  20\n",
       "R2   5  82  28\n",
       "R3  71  31  92\n",
       "R4  67  37  39"
      ]
     },
     "metadata": {},
     "execution_count": 6
    }
   ],
   "metadata": {}
  },
  {
   "cell_type": "code",
   "execution_count": 9,
   "source": [
    "f = lambda x: x.max() + x.min()\r\n",
    "df_new = df.apply(f)\r\n",
    "df_new[1]"
   ],
   "outputs": [
    {
     "output_type": "execute_result",
     "data": {
      "text/plain": [
       "88"
      ]
     },
     "metadata": {},
     "execution_count": 9
    }
   ],
   "metadata": {}
  },
  {
   "cell_type": "code",
   "execution_count": 13,
   "source": [
    "# Question 10\r\n",
    "df = pd.DataFrame({'item': ['item1','item1','item1', 'item2','item2','item2'],\r\n",
    "                   'Store': ['A','B','C', 'A', 'B', 'C'],\r\n",
    "                   'qtty': [10.0, 20.0, np.nan, 5.0, 10.0, 15.0]})\r\n",
    "df.groupby('item').sum().iloc[0]['qtty']"
   ],
   "outputs": [
    {
     "output_type": "execute_result",
     "data": {
      "text/plain": [
       "30.0"
      ]
     },
     "metadata": {},
     "execution_count": 13
    }
   ],
   "metadata": {}
  },
  {
   "cell_type": "code",
   "execution_count": null,
   "source": [],
   "outputs": [],
   "metadata": {}
  }
 ],
 "metadata": {
  "orig_nbformat": 4,
  "language_info": {
   "name": "python",
   "version": "3.7.3",
   "mimetype": "text/x-python",
   "codemirror_mode": {
    "name": "ipython",
    "version": 3
   },
   "pygments_lexer": "ipython3",
   "nbconvert_exporter": "python",
   "file_extension": ".py"
  },
  "kernelspec": {
   "name": "python3",
   "display_name": "Python 3.7.3 64-bit ('base': conda)"
  },
  "interpreter": {
   "hash": "378a9130397d34c73f169dfd69f02f77a5bb26104fe8bcf57714ccc4802c402b"
  }
 },
 "nbformat": 4,
 "nbformat_minor": 2
}